{
  "metadata": {
    "kernelspec": {
      "name": "python",
      "display_name": "Pyolite",
      "language": "python"
    },
    "language_info": {
      "codemirror_mode": {
        "name": "python",
        "version": 3
      },
      "file_extension": ".py",
      "mimetype": "text/x-python",
      "name": "python",
      "nbconvert_exporter": "python",
      "pygments_lexer": "ipython3",
      "version": "3.8"
    }
  },
  "nbformat_minor": 5,
  "nbformat": 4,
  "cells": [
    {
      "cell_type": "markdown",
      "source": "**Exercise 01** \n\n- Write code to find which city has more clients NJ or NY?\n\n```\nclients=[['james','NJ'],['mike','NJ'],['linda','NY'],['sarah','NJ'],['yara','NY'],['robert','NJ'],\n['sam','NY'],['zara','NJ'],['judi','NY'],['tara','NJ'],['ed','NY'],['muna','NJ'],['layan','NY'],\n['taylor','NJ'],['susan','NJ'],['hala','NJ'],['shahd','NY'],['suha','NY'],['ziad','NY'],\n['emad','NJ'],['tony','NY'],['juan','NJ']]\n\n```",
      "metadata": {},
      "id": "198dd905"
    },
    {
      "cell_type": "code",
      "source": "clients=[['james', 'Ankara'], ['mike', 'Ankara'], ['linda', 'Istanbul'], ['sarah', 'Ankara'], ['yara', 'Istanbul'],\n         ['robert', 'Ankara'], ['sam', 'Istanbul'], ['zara', 'Ankara'], ['judi', 'Istanbul'], ['tara', 'Ankara'],\n         ['ed', 'Istanbul'], ['muna', 'Ankara'], ['layan', 'Istanbul'], ['taylor', 'Ankara'], ['susan', 'Ankara'],\n         ['hala', 'Ankara'], ['shahd', 'Istanbul'], ['suha', 'Istanbul'], ['ziad', 'Istanbul'], ['emad', 'Ankara'],\n         ['ali', 'Istanbul'], ['juan', 'Ankara']]\n## Your code here\ncount1=0\ncount2=0\nfor i in clients:\n    if i[1]=='Ankara':\n        count1=count1+1\n    else:\n        count2+=1\nif count1>count2:\n    print(\"Ankara en popüler şehir\")\nelif count1==count2:\n    print(\"eşit sayıda var\")\nelse:\n    print(\"İstanbul en popüler şehir\")\n",
      "metadata": {
        "trusted": true
      },
      "execution_count": 7,
      "outputs": [
        {
          "name": "stdout",
          "text": "10\n",
          "output_type": "stream"
        }
      ],
      "id": "a6c72186"
    },
    {
      "cell_type": "markdown",
      "source": "**Exercise 02** \n\nThe following dictionary contains data about students. \n- Find all students of grade's average greater than 75?\n- Find a list of unique courses names\n- Find the name of the student with the highest grade in Programming\n- Sort students names based on their grade in Science",
      "metadata": {},
      "id": "2a2e271a"
    },
    {
      "cell_type": "code",
      "source": "## Your code here\nstudents={'james':{'Math':92,'Science':33,'Programming':56,'English':89},\n          'linda':{'English':45,'Database':77,'Math':76,'Programming':82},\n          'sarah':{'Programming':77,'Science':44,'Math':92},\n          'yara':{'Math':91,'Database':62,'Programming':77,'Science':59},\n          'robert':{'Geology':76,'Science':79},\n          'sam':{'Math':71,'Science':75,'History':89},\n          'zara':{'Math':56,'Science':66,'History':88, 'Marketing':87}}\nx=students.values()\nfor i in x:\n   a=i.values()\n   for j in a:\n        print(j)\n      ",
      "metadata": {
        "trusted": true
      },
      "execution_count": null,
      "outputs": [],
      "id": "b026f8a0"
    },
    {
      "cell_type": "code",
      "source": "**Exercise 03**\n```\nWrite a python code to find all of the numbers from 1-1000 that have a 3 in them\n```",
      "metadata": {
        "trusted": true
      },
      "execution_count": null,
      "outputs": [],
      "id": "255a8c45-bedf-4bd6-a5e6-856e919c5e81"
    },
    {
      "cell_type": "code",
      "source": "### Your code here\nthree = [n for n in range(0,1000) if '3' in str(n)]\nprint(three)",
      "metadata": {
        "trusted": true
      },
      "execution_count": null,
      "outputs": [],
      "id": "8af98972"
    },
    {
      "cell_type": "markdown",
      "source": "**Exercise 04**\n```\nGiven the following list of employees that contains: (employee_name, age, salary) of each employee: \n\nemployees=[('james',20,3000),('mike',30,4500),('lara',25,2500),('alma',23,5000),('sedra',17,3500)]\n\n\nWrite a python code to find:\n\n1- The minimum salary of employees older than 24 \n2- Names of all employees with salary greater than average.\n\n```",
      "metadata": {},
      "id": "299dc75f"
    },
    {
      "cell_type": "code",
      "source": "### Your code here\nemployees=[('james',20,3000),('mike',30,4500),('lara',25,2500),('alma',23,5000),('sedra',17,3500)]\n#1-\nminSalary=0\nfor i in employees:\n    if i[1]>24:\n        if minSalary==0:\n            minSalary=i[2]\n        elif i[2]<minSalary:\n            minSalary=i[2]\nprint(minSalary)\n#2-\navg=0\nfor i in employees:\n    avg+=i[2]\navg=avg/len(employees)\nfor i in employees:\n    if i[2]>avg:\n        print(i[0])",
      "metadata": {
        "trusted": true
      },
      "execution_count": 12,
      "outputs": [
        {
          "ename": "<class 'SyntaxError'>",
          "evalue": "invalid syntax. Perhaps you forgot a comma? (<ipython-input-12-40b026b4ddb3>, line 11)",
          "traceback": [
            "\u001b[0;36m  Input \u001b[0;32mIn [12]\u001b[0;36m\u001b[0m\n\u001b[0;31m    print(\"minimum salary:\"minSalary)\u001b[0m\n\u001b[0m          ^\u001b[0m\n\u001b[0;31mSyntaxError\u001b[0m\u001b[0;31m:\u001b[0m invalid syntax. Perhaps you forgot a comma?\n"
          ],
          "output_type": "error"
        }
      ],
      "id": "dffbf5af"
    },
    {
      "cell_type": "code",
      "source": "",
      "metadata": {},
      "execution_count": null,
      "outputs": [],
      "id": "e791dc85-cdb2-4720-b3e8-997f23ac5982"
    }
  ]
}